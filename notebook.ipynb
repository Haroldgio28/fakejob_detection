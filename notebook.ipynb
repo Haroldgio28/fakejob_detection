{
 "cells": [
  {
   "cell_type": "code",
   "execution_count": 40,
   "metadata": {},
   "outputs": [],
   "source": [
    "import pandas as pd\n",
    "import numpy as np\n",
    "import matplotlib.pyplot as plt\n",
    "import seaborn as sns\n",
    "\n",
    "from sklearn.model_selection import train_test_split\n",
    "from sklearn.metrics import mutual_info_score\n",
    "\n",
    "from sklearn.feature_extraction import DictVectorizer\n",
    "from sklearn.metrics import roc_curve, auc\n",
    "\n",
    "from sklearn.model_selection import GridSearchCV"
   ]
  },
  {
   "cell_type": "markdown",
   "metadata": {},
   "source": [
    "## Load Data"
   ]
  },
  {
   "cell_type": "code",
   "execution_count": 2,
   "metadata": {},
   "outputs": [
    {
     "data": {
      "text/html": [
       "<div>\n",
       "<style scoped>\n",
       "    .dataframe tbody tr th:only-of-type {\n",
       "        vertical-align: middle;\n",
       "    }\n",
       "\n",
       "    .dataframe tbody tr th {\n",
       "        vertical-align: top;\n",
       "    }\n",
       "\n",
       "    .dataframe thead th {\n",
       "        text-align: right;\n",
       "    }\n",
       "</style>\n",
       "<table border=\"1\" class=\"dataframe\">\n",
       "  <thead>\n",
       "    <tr style=\"text-align: right;\">\n",
       "      <th></th>\n",
       "      <th>job_id</th>\n",
       "      <th>title</th>\n",
       "      <th>location</th>\n",
       "      <th>department</th>\n",
       "      <th>salary_range</th>\n",
       "      <th>company_profile</th>\n",
       "      <th>description</th>\n",
       "      <th>requirements</th>\n",
       "      <th>benefits</th>\n",
       "      <th>telecommuting</th>\n",
       "      <th>has_company_logo</th>\n",
       "      <th>has_questions</th>\n",
       "      <th>employment_type</th>\n",
       "      <th>required_experience</th>\n",
       "      <th>required_education</th>\n",
       "      <th>industry</th>\n",
       "      <th>function</th>\n",
       "      <th>fraudulent</th>\n",
       "    </tr>\n",
       "  </thead>\n",
       "  <tbody>\n",
       "    <tr>\n",
       "      <th>0</th>\n",
       "      <td>1</td>\n",
       "      <td>Marketing Intern</td>\n",
       "      <td>US, NY, New York</td>\n",
       "      <td>Marketing</td>\n",
       "      <td>NaN</td>\n",
       "      <td>We're Food52, and we've created a groundbreaki...</td>\n",
       "      <td>Food52, a fast-growing, James Beard Award-winn...</td>\n",
       "      <td>Experience with content management systems a m...</td>\n",
       "      <td>NaN</td>\n",
       "      <td>0</td>\n",
       "      <td>1</td>\n",
       "      <td>0</td>\n",
       "      <td>Other</td>\n",
       "      <td>Internship</td>\n",
       "      <td>NaN</td>\n",
       "      <td>NaN</td>\n",
       "      <td>Marketing</td>\n",
       "      <td>0</td>\n",
       "    </tr>\n",
       "    <tr>\n",
       "      <th>1</th>\n",
       "      <td>2</td>\n",
       "      <td>Customer Service - Cloud Video Production</td>\n",
       "      <td>NZ, , Auckland</td>\n",
       "      <td>Success</td>\n",
       "      <td>NaN</td>\n",
       "      <td>90 Seconds, the worlds Cloud Video Production ...</td>\n",
       "      <td>Organised - Focused - Vibrant - Awesome!Do you...</td>\n",
       "      <td>What we expect from you:Your key responsibilit...</td>\n",
       "      <td>What you will get from usThrough being part of...</td>\n",
       "      <td>0</td>\n",
       "      <td>1</td>\n",
       "      <td>0</td>\n",
       "      <td>Full-time</td>\n",
       "      <td>Not Applicable</td>\n",
       "      <td>NaN</td>\n",
       "      <td>Marketing and Advertising</td>\n",
       "      <td>Customer Service</td>\n",
       "      <td>0</td>\n",
       "    </tr>\n",
       "    <tr>\n",
       "      <th>2</th>\n",
       "      <td>3</td>\n",
       "      <td>Commissioning Machinery Assistant (CMA)</td>\n",
       "      <td>US, IA, Wever</td>\n",
       "      <td>NaN</td>\n",
       "      <td>NaN</td>\n",
       "      <td>Valor Services provides Workforce Solutions th...</td>\n",
       "      <td>Our client, located in Houston, is actively se...</td>\n",
       "      <td>Implement pre-commissioning and commissioning ...</td>\n",
       "      <td>NaN</td>\n",
       "      <td>0</td>\n",
       "      <td>1</td>\n",
       "      <td>0</td>\n",
       "      <td>NaN</td>\n",
       "      <td>NaN</td>\n",
       "      <td>NaN</td>\n",
       "      <td>NaN</td>\n",
       "      <td>NaN</td>\n",
       "      <td>0</td>\n",
       "    </tr>\n",
       "    <tr>\n",
       "      <th>3</th>\n",
       "      <td>4</td>\n",
       "      <td>Account Executive - Washington DC</td>\n",
       "      <td>US, DC, Washington</td>\n",
       "      <td>Sales</td>\n",
       "      <td>NaN</td>\n",
       "      <td>Our passion for improving quality of life thro...</td>\n",
       "      <td>THE COMPANY: ESRI – Environmental Systems Rese...</td>\n",
       "      <td>EDUCATION: Bachelor’s or Master’s in GIS, busi...</td>\n",
       "      <td>Our culture is anything but corporate—we have ...</td>\n",
       "      <td>0</td>\n",
       "      <td>1</td>\n",
       "      <td>0</td>\n",
       "      <td>Full-time</td>\n",
       "      <td>Mid-Senior level</td>\n",
       "      <td>Bachelor's Degree</td>\n",
       "      <td>Computer Software</td>\n",
       "      <td>Sales</td>\n",
       "      <td>0</td>\n",
       "    </tr>\n",
       "    <tr>\n",
       "      <th>4</th>\n",
       "      <td>5</td>\n",
       "      <td>Bill Review Manager</td>\n",
       "      <td>US, FL, Fort Worth</td>\n",
       "      <td>NaN</td>\n",
       "      <td>NaN</td>\n",
       "      <td>SpotSource Solutions LLC is a Global Human Cap...</td>\n",
       "      <td>JOB TITLE: Itemization Review ManagerLOCATION:...</td>\n",
       "      <td>QUALIFICATIONS:RN license in the State of Texa...</td>\n",
       "      <td>Full Benefits Offered</td>\n",
       "      <td>0</td>\n",
       "      <td>1</td>\n",
       "      <td>1</td>\n",
       "      <td>Full-time</td>\n",
       "      <td>Mid-Senior level</td>\n",
       "      <td>Bachelor's Degree</td>\n",
       "      <td>Hospital &amp; Health Care</td>\n",
       "      <td>Health Care Provider</td>\n",
       "      <td>0</td>\n",
       "    </tr>\n",
       "    <tr>\n",
       "      <th>5</th>\n",
       "      <td>6</td>\n",
       "      <td>Accounting Clerk</td>\n",
       "      <td>US, MD,</td>\n",
       "      <td>NaN</td>\n",
       "      <td>NaN</td>\n",
       "      <td>NaN</td>\n",
       "      <td>Job OverviewApex is an environmental consultin...</td>\n",
       "      <td>NaN</td>\n",
       "      <td>NaN</td>\n",
       "      <td>0</td>\n",
       "      <td>0</td>\n",
       "      <td>0</td>\n",
       "      <td>NaN</td>\n",
       "      <td>NaN</td>\n",
       "      <td>NaN</td>\n",
       "      <td>NaN</td>\n",
       "      <td>NaN</td>\n",
       "      <td>0</td>\n",
       "    </tr>\n",
       "    <tr>\n",
       "      <th>6</th>\n",
       "      <td>7</td>\n",
       "      <td>Head of Content (m/f)</td>\n",
       "      <td>DE, BE, Berlin</td>\n",
       "      <td>ANDROIDPIT</td>\n",
       "      <td>20000-28000</td>\n",
       "      <td>Founded in 2009, the Fonpit AG rose with its i...</td>\n",
       "      <td>Your Responsibilities: Manage the English-spea...</td>\n",
       "      <td>Your Know-How:                                ...</td>\n",
       "      <td>Your Benefits: Being part of a fast-growing co...</td>\n",
       "      <td>0</td>\n",
       "      <td>1</td>\n",
       "      <td>1</td>\n",
       "      <td>Full-time</td>\n",
       "      <td>Mid-Senior level</td>\n",
       "      <td>Master's Degree</td>\n",
       "      <td>Online Media</td>\n",
       "      <td>Management</td>\n",
       "      <td>0</td>\n",
       "    </tr>\n",
       "    <tr>\n",
       "      <th>7</th>\n",
       "      <td>8</td>\n",
       "      <td>Lead Guest Service Specialist</td>\n",
       "      <td>US, CA, San Francisco</td>\n",
       "      <td>NaN</td>\n",
       "      <td>NaN</td>\n",
       "      <td>Airenvy’s mission is to provide lucrative yet ...</td>\n",
       "      <td>Who is Airenvy?Hey there! We are seasoned entr...</td>\n",
       "      <td>Experience with CRM software, live chat, and p...</td>\n",
       "      <td>Competitive Pay. You'll be able to eat steak e...</td>\n",
       "      <td>0</td>\n",
       "      <td>1</td>\n",
       "      <td>1</td>\n",
       "      <td>NaN</td>\n",
       "      <td>NaN</td>\n",
       "      <td>NaN</td>\n",
       "      <td>NaN</td>\n",
       "      <td>NaN</td>\n",
       "      <td>0</td>\n",
       "    </tr>\n",
       "    <tr>\n",
       "      <th>8</th>\n",
       "      <td>9</td>\n",
       "      <td>HP BSM SME</td>\n",
       "      <td>US, FL, Pensacola</td>\n",
       "      <td>NaN</td>\n",
       "      <td>NaN</td>\n",
       "      <td>Solutions3 is a woman-owned small business who...</td>\n",
       "      <td>Implementation/Configuration/Testing/Training ...</td>\n",
       "      <td>MUST BE A US CITIZEN.An active TS/SCI clearanc...</td>\n",
       "      <td>NaN</td>\n",
       "      <td>0</td>\n",
       "      <td>1</td>\n",
       "      <td>1</td>\n",
       "      <td>Full-time</td>\n",
       "      <td>Associate</td>\n",
       "      <td>NaN</td>\n",
       "      <td>Information Technology and Services</td>\n",
       "      <td>NaN</td>\n",
       "      <td>0</td>\n",
       "    </tr>\n",
       "    <tr>\n",
       "      <th>9</th>\n",
       "      <td>10</td>\n",
       "      <td>Customer Service Associate - Part Time</td>\n",
       "      <td>US, AZ, Phoenix</td>\n",
       "      <td>NaN</td>\n",
       "      <td>NaN</td>\n",
       "      <td>Novitex Enterprise Solutions, formerly Pitney ...</td>\n",
       "      <td>The Customer Service Associate will be based i...</td>\n",
       "      <td>Minimum Requirements:Minimum of 6 months custo...</td>\n",
       "      <td>NaN</td>\n",
       "      <td>0</td>\n",
       "      <td>1</td>\n",
       "      <td>0</td>\n",
       "      <td>Part-time</td>\n",
       "      <td>Entry level</td>\n",
       "      <td>High School or equivalent</td>\n",
       "      <td>Financial Services</td>\n",
       "      <td>Customer Service</td>\n",
       "      <td>0</td>\n",
       "    </tr>\n",
       "  </tbody>\n",
       "</table>\n",
       "</div>"
      ],
      "text/plain": [
       "   job_id                                      title               location  \\\n",
       "0       1                           Marketing Intern       US, NY, New York   \n",
       "1       2  Customer Service - Cloud Video Production         NZ, , Auckland   \n",
       "2       3    Commissioning Machinery Assistant (CMA)          US, IA, Wever   \n",
       "3       4          Account Executive - Washington DC     US, DC, Washington   \n",
       "4       5                        Bill Review Manager     US, FL, Fort Worth   \n",
       "5       6                           Accounting Clerk               US, MD,    \n",
       "6       7                      Head of Content (m/f)         DE, BE, Berlin   \n",
       "7       8           Lead Guest Service Specialist     US, CA, San Francisco   \n",
       "8       9                                 HP BSM SME      US, FL, Pensacola   \n",
       "9      10    Customer Service Associate - Part Time         US, AZ, Phoenix   \n",
       "\n",
       "   department salary_range                                    company_profile  \\\n",
       "0   Marketing          NaN  We're Food52, and we've created a groundbreaki...   \n",
       "1     Success          NaN  90 Seconds, the worlds Cloud Video Production ...   \n",
       "2         NaN          NaN  Valor Services provides Workforce Solutions th...   \n",
       "3       Sales          NaN  Our passion for improving quality of life thro...   \n",
       "4         NaN          NaN  SpotSource Solutions LLC is a Global Human Cap...   \n",
       "5         NaN          NaN                                                NaN   \n",
       "6  ANDROIDPIT  20000-28000  Founded in 2009, the Fonpit AG rose with its i...   \n",
       "7         NaN          NaN  Airenvy’s mission is to provide lucrative yet ...   \n",
       "8         NaN          NaN  Solutions3 is a woman-owned small business who...   \n",
       "9         NaN          NaN  Novitex Enterprise Solutions, formerly Pitney ...   \n",
       "\n",
       "                                         description  \\\n",
       "0  Food52, a fast-growing, James Beard Award-winn...   \n",
       "1  Organised - Focused - Vibrant - Awesome!Do you...   \n",
       "2  Our client, located in Houston, is actively se...   \n",
       "3  THE COMPANY: ESRI – Environmental Systems Rese...   \n",
       "4  JOB TITLE: Itemization Review ManagerLOCATION:...   \n",
       "5  Job OverviewApex is an environmental consultin...   \n",
       "6  Your Responsibilities: Manage the English-spea...   \n",
       "7  Who is Airenvy?Hey there! We are seasoned entr...   \n",
       "8  Implementation/Configuration/Testing/Training ...   \n",
       "9  The Customer Service Associate will be based i...   \n",
       "\n",
       "                                        requirements  \\\n",
       "0  Experience with content management systems a m...   \n",
       "1  What we expect from you:Your key responsibilit...   \n",
       "2  Implement pre-commissioning and commissioning ...   \n",
       "3  EDUCATION: Bachelor’s or Master’s in GIS, busi...   \n",
       "4  QUALIFICATIONS:RN license in the State of Texa...   \n",
       "5                                                NaN   \n",
       "6  Your Know-How:                                ...   \n",
       "7  Experience with CRM software, live chat, and p...   \n",
       "8  MUST BE A US CITIZEN.An active TS/SCI clearanc...   \n",
       "9  Minimum Requirements:Minimum of 6 months custo...   \n",
       "\n",
       "                                            benefits  telecommuting  \\\n",
       "0                                                NaN              0   \n",
       "1  What you will get from usThrough being part of...              0   \n",
       "2                                                NaN              0   \n",
       "3  Our culture is anything but corporate—we have ...              0   \n",
       "4                              Full Benefits Offered              0   \n",
       "5                                                NaN              0   \n",
       "6  Your Benefits: Being part of a fast-growing co...              0   \n",
       "7  Competitive Pay. You'll be able to eat steak e...              0   \n",
       "8                                                NaN              0   \n",
       "9                                                NaN              0   \n",
       "\n",
       "   has_company_logo  has_questions employment_type required_experience  \\\n",
       "0                 1              0           Other          Internship   \n",
       "1                 1              0       Full-time      Not Applicable   \n",
       "2                 1              0             NaN                 NaN   \n",
       "3                 1              0       Full-time    Mid-Senior level   \n",
       "4                 1              1       Full-time    Mid-Senior level   \n",
       "5                 0              0             NaN                 NaN   \n",
       "6                 1              1       Full-time    Mid-Senior level   \n",
       "7                 1              1             NaN                 NaN   \n",
       "8                 1              1       Full-time           Associate   \n",
       "9                 1              0       Part-time         Entry level   \n",
       "\n",
       "          required_education                             industry  \\\n",
       "0                        NaN                                  NaN   \n",
       "1                        NaN            Marketing and Advertising   \n",
       "2                        NaN                                  NaN   \n",
       "3          Bachelor's Degree                    Computer Software   \n",
       "4          Bachelor's Degree               Hospital & Health Care   \n",
       "5                        NaN                                  NaN   \n",
       "6            Master's Degree                         Online Media   \n",
       "7                        NaN                                  NaN   \n",
       "8                        NaN  Information Technology and Services   \n",
       "9  High School or equivalent                   Financial Services   \n",
       "\n",
       "               function  fraudulent  \n",
       "0             Marketing           0  \n",
       "1      Customer Service           0  \n",
       "2                   NaN           0  \n",
       "3                 Sales           0  \n",
       "4  Health Care Provider           0  \n",
       "5                   NaN           0  \n",
       "6            Management           0  \n",
       "7                   NaN           0  \n",
       "8                   NaN           0  \n",
       "9      Customer Service           0  "
      ]
     },
     "execution_count": 2,
     "metadata": {},
     "output_type": "execute_result"
    }
   ],
   "source": [
    "df = pd.read_csv('./data/fake_job_postings.csv')\n",
    "df_ori = df.copy()\n",
    "df.head(10)"
   ]
  },
  {
   "cell_type": "markdown",
   "metadata": {},
   "source": [
    "## EDA"
   ]
  },
  {
   "cell_type": "code",
   "execution_count": 3,
   "metadata": {},
   "outputs": [
    {
     "data": {
      "text/plain": [
       "17880"
      ]
     },
     "execution_count": 3,
     "metadata": {},
     "output_type": "execute_result"
    }
   ],
   "source": [
    "df.shape[0]"
   ]
  },
  {
   "cell_type": "code",
   "execution_count": 4,
   "metadata": {},
   "outputs": [
    {
     "data": {
      "text/plain": [
       "Index(['job_id', 'title', 'location', 'department', 'salary_range',\n",
       "       'company_profile', 'description', 'requirements', 'benefits',\n",
       "       'telecommuting', 'has_company_logo', 'has_questions', 'employment_type',\n",
       "       'required_experience', 'required_education', 'industry', 'function',\n",
       "       'fraudulent'],\n",
       "      dtype='object')"
      ]
     },
     "execution_count": 4,
     "metadata": {},
     "output_type": "execute_result"
    }
   ],
   "source": [
    "df.columns"
   ]
  },
  {
   "cell_type": "code",
   "execution_count": 5,
   "metadata": {},
   "outputs": [
    {
     "data": {
      "text/html": [
       "<div>\n",
       "<style scoped>\n",
       "    .dataframe tbody tr th:only-of-type {\n",
       "        vertical-align: middle;\n",
       "    }\n",
       "\n",
       "    .dataframe tbody tr th {\n",
       "        vertical-align: top;\n",
       "    }\n",
       "\n",
       "    .dataframe thead th {\n",
       "        text-align: right;\n",
       "    }\n",
       "</style>\n",
       "<table border=\"1\" class=\"dataframe\">\n",
       "  <thead>\n",
       "    <tr style=\"text-align: right;\">\n",
       "      <th></th>\n",
       "      <th>job_id</th>\n",
       "      <th>telecommuting</th>\n",
       "      <th>has_company_logo</th>\n",
       "      <th>has_questions</th>\n",
       "      <th>fraudulent</th>\n",
       "    </tr>\n",
       "  </thead>\n",
       "  <tbody>\n",
       "    <tr>\n",
       "      <th>count</th>\n",
       "      <td>17880.000000</td>\n",
       "      <td>17880.000000</td>\n",
       "      <td>17880.000000</td>\n",
       "      <td>17880.000000</td>\n",
       "      <td>17880.000000</td>\n",
       "    </tr>\n",
       "    <tr>\n",
       "      <th>mean</th>\n",
       "      <td>8940.500000</td>\n",
       "      <td>0.042897</td>\n",
       "      <td>0.795302</td>\n",
       "      <td>0.491723</td>\n",
       "      <td>0.048434</td>\n",
       "    </tr>\n",
       "    <tr>\n",
       "      <th>std</th>\n",
       "      <td>5161.655742</td>\n",
       "      <td>0.202631</td>\n",
       "      <td>0.403492</td>\n",
       "      <td>0.499945</td>\n",
       "      <td>0.214688</td>\n",
       "    </tr>\n",
       "    <tr>\n",
       "      <th>min</th>\n",
       "      <td>1.000000</td>\n",
       "      <td>0.000000</td>\n",
       "      <td>0.000000</td>\n",
       "      <td>0.000000</td>\n",
       "      <td>0.000000</td>\n",
       "    </tr>\n",
       "    <tr>\n",
       "      <th>25%</th>\n",
       "      <td>4470.750000</td>\n",
       "      <td>0.000000</td>\n",
       "      <td>1.000000</td>\n",
       "      <td>0.000000</td>\n",
       "      <td>0.000000</td>\n",
       "    </tr>\n",
       "    <tr>\n",
       "      <th>50%</th>\n",
       "      <td>8940.500000</td>\n",
       "      <td>0.000000</td>\n",
       "      <td>1.000000</td>\n",
       "      <td>0.000000</td>\n",
       "      <td>0.000000</td>\n",
       "    </tr>\n",
       "    <tr>\n",
       "      <th>75%</th>\n",
       "      <td>13410.250000</td>\n",
       "      <td>0.000000</td>\n",
       "      <td>1.000000</td>\n",
       "      <td>1.000000</td>\n",
       "      <td>0.000000</td>\n",
       "    </tr>\n",
       "    <tr>\n",
       "      <th>max</th>\n",
       "      <td>17880.000000</td>\n",
       "      <td>1.000000</td>\n",
       "      <td>1.000000</td>\n",
       "      <td>1.000000</td>\n",
       "      <td>1.000000</td>\n",
       "    </tr>\n",
       "  </tbody>\n",
       "</table>\n",
       "</div>"
      ],
      "text/plain": [
       "             job_id  telecommuting  has_company_logo  has_questions  \\\n",
       "count  17880.000000   17880.000000      17880.000000   17880.000000   \n",
       "mean    8940.500000       0.042897          0.795302       0.491723   \n",
       "std     5161.655742       0.202631          0.403492       0.499945   \n",
       "min        1.000000       0.000000          0.000000       0.000000   \n",
       "25%     4470.750000       0.000000          1.000000       0.000000   \n",
       "50%     8940.500000       0.000000          1.000000       0.000000   \n",
       "75%    13410.250000       0.000000          1.000000       1.000000   \n",
       "max    17880.000000       1.000000          1.000000       1.000000   \n",
       "\n",
       "         fraudulent  \n",
       "count  17880.000000  \n",
       "mean       0.048434  \n",
       "std        0.214688  \n",
       "min        0.000000  \n",
       "25%        0.000000  \n",
       "50%        0.000000  \n",
       "75%        0.000000  \n",
       "max        1.000000  "
      ]
     },
     "execution_count": 5,
     "metadata": {},
     "output_type": "execute_result"
    }
   ],
   "source": [
    "df.describe()"
   ]
  },
  {
   "cell_type": "code",
   "execution_count": 6,
   "metadata": {},
   "outputs": [
    {
     "name": "stderr",
     "output_type": "stream",
     "text": [
      "C:\\Users\\Harold Uribe Romero\\AppData\\Local\\Temp\\ipykernel_2892\\4226207916.py:10: FutureWarning: \n",
      "\n",
      "Passing `palette` without assigning `hue` is deprecated and will be removed in v0.14.0. Assign the `y` variable to `hue` and set `legend=False` for the same effect.\n",
      "\n",
      "  sns.barplot(x=(missing_values_count.values/df.shape[0]*100), y=missing_values_count.index, palette=\"viridis\")\n"
     ]
    },
    {
     "data": {
      "image/png": "[encoded data removed]",
      "text/plain": [
       "<Figure size 1500x800 with 1 Axes>"
      ]
     },
     "metadata": {},
     "output_type": "display_data"
    }
   ],
   "source": [
    "plt.figure(figsize=(15, 8))\n",
    "\n",
    "# Conteo de valores faltantes\n",
    "missing_values_count = df.isnull().sum()\n",
    "\n",
    "# Filtrar y ordenar las columnas con valores faltantes\n",
    "missing_values_count = missing_values_count[missing_values_count > 0].sort_values(ascending=False)\n",
    "\n",
    "# Creación de un gráfico de barras para visualizar los valores faltantes\n",
    "sns.barplot(x=(missing_values_count.values/df.shape[0]*100), y=missing_values_count.index, palette=\"viridis\")\n",
    "plt.title(\"Missing values per column\")\n",
    "plt.xlabel(\"% Missing Values Quantity\")\n",
    "plt.ylabel(\"Column\")\n",
    "\n",
    "# Mostrar el gráfico\n",
    "plt.show()"
   ]
  },
  {
   "cell_type": "code",
   "execution_count": 7,
   "metadata": {},
   "outputs": [
    {
     "data": {
      "text/plain": [
       "fraudulent\n",
       "0    95.1566\n",
       "1     4.8434\n",
       "Name: proportion, dtype: float64"
      ]
     },
     "execution_count": 7,
     "metadata": {},
     "output_type": "execute_result"
    }
   ],
   "source": [
    "df['fraudulent'].value_counts(normalize=True)*100"
   ]
  },
  {
   "cell_type": "code",
   "execution_count": 8,
   "metadata": {},
   "outputs": [
    {
     "name": "stderr",
     "output_type": "stream",
     "text": [
      "C:\\Users\\Harold Uribe Romero\\AppData\\Local\\Temp\\ipykernel_2892\\1973299769.py:1: FutureWarning: \n",
      "\n",
      "Passing `palette` without assigning `hue` is deprecated and will be removed in v0.14.0. Assign the `x` variable to `hue` and set `legend=False` for the same effect.\n",
      "\n",
      "  sns.barplot(x=df['fraudulent'].value_counts().index, y=df['fraudulent'].value_counts().values, palette=\"viridis\")\n"
     ]
    },
    {
     "data": {
      "image/png": "[encoded data removed]",
      "text/plain": [
       "<Figure size 640x480 with 1 Axes>"
      ]
     },
     "metadata": {},
     "output_type": "display_data"
    }
   ],
   "source": [
    "sns.barplot(x=df['fraudulent'].value_counts().index, y=df['fraudulent'].value_counts().values, palette=\"viridis\")\n",
    "plt.show()\n"
   ]
  },
  {
   "cell_type": "markdown",
   "metadata": {},
   "source": [
    "Here we have an unbalanced dataset. An important topic to handle with."
   ]
  },
  {
   "cell_type": "markdown",
   "metadata": {},
   "source": [
    "## Cleaning\n",
    "\n",
    "### Remove unnecessary columns"
   ]
  },
  {
   "cell_type": "code",
   "execution_count": 9,
   "metadata": {},
   "outputs": [],
   "source": [
    "del df['job_id']"
   ]
  },
  {
   "cell_type": "markdown",
   "metadata": {},
   "source": [
    "### Location standarizing"
   ]
  },
  {
   "cell_type": "code",
   "execution_count": 10,
   "metadata": {},
   "outputs": [],
   "source": [
    "# Fill null values on location with \"No location\"\n",
    "df['location'].fillna(\"No location\", inplace=True)\n",
    "\n",
    "# Extract from location the country\n",
    "df['country'] = df['location'].apply(lambda x: x.split(\", \")[0])\n",
    "df['country'].head()\n",
    "\n",
    "del df['location']"
   ]
  },
  {
   "cell_type": "markdown",
   "metadata": {},
   "source": [
    "## Filling missing values"
   ]
  },
  {
   "cell_type": "code",
   "execution_count": 11,
   "metadata": {},
   "outputs": [
    {
     "data": {
      "text/plain": [
       "salary_range           83.959732\n",
       "department             64.580537\n",
       "required_education     45.329978\n",
       "benefits               40.335570\n",
       "required_experience    39.429530\n",
       "function               36.101790\n",
       "industry               27.421700\n",
       "employment_type        19.412752\n",
       "company_profile        18.501119\n",
       "requirements           15.078300\n",
       "location                1.935123\n",
       "description             0.005593\n",
       "dtype: float64"
      ]
     },
     "execution_count": 11,
     "metadata": {},
     "output_type": "execute_result"
    }
   ],
   "source": [
    "missing_values_count/df.shape[0]*100"
   ]
  },
  {
   "cell_type": "code",
   "execution_count": 12,
   "metadata": {},
   "outputs": [],
   "source": [
    "del df['salary_range']"
   ]
  },
  {
   "cell_type": "code",
   "execution_count": 13,
   "metadata": {},
   "outputs": [],
   "source": [
    "## When benefits is not null, then fill with 1, other scenario fill with 0 value\n",
    "def fill_missing_values(x):\n",
    "    if type(x) == str:\n",
    "        return 1\n",
    "    else:\n",
    "        return 0\n"
   ]
  },
  {
   "cell_type": "code",
   "execution_count": 14,
   "metadata": {},
   "outputs": [
    {
     "data": {
      "text/html": [
       "<div>\n",
       "<style scoped>\n",
       "    .dataframe tbody tr th:only-of-type {\n",
       "        vertical-align: middle;\n",
       "    }\n",
       "\n",
       "    .dataframe tbody tr th {\n",
       "        vertical-align: top;\n",
       "    }\n",
       "\n",
       "    .dataframe thead th {\n",
       "        text-align: right;\n",
       "    }\n",
       "</style>\n",
       "<table border=\"1\" class=\"dataframe\">\n",
       "  <thead>\n",
       "    <tr style=\"text-align: right;\">\n",
       "      <th></th>\n",
       "      <th>title</th>\n",
       "      <th>department</th>\n",
       "      <th>company_profile</th>\n",
       "      <th>description</th>\n",
       "      <th>requirements</th>\n",
       "      <th>benefits</th>\n",
       "      <th>telecommuting</th>\n",
       "      <th>has_company_logo</th>\n",
       "      <th>has_questions</th>\n",
       "      <th>employment_type</th>\n",
       "      <th>required_experience</th>\n",
       "      <th>required_education</th>\n",
       "      <th>industry</th>\n",
       "      <th>function</th>\n",
       "      <th>fraudulent</th>\n",
       "      <th>country</th>\n",
       "    </tr>\n",
       "  </thead>\n",
       "  <tbody>\n",
       "    <tr>\n",
       "      <th>0</th>\n",
       "      <td>Marketing Intern</td>\n",
       "      <td>Marketing</td>\n",
       "      <td>1</td>\n",
       "      <td>1</td>\n",
       "      <td>1</td>\n",
       "      <td>0</td>\n",
       "      <td>0</td>\n",
       "      <td>1</td>\n",
       "      <td>0</td>\n",
       "      <td>Other</td>\n",
       "      <td>Internship</td>\n",
       "      <td>NaN</td>\n",
       "      <td>NaN</td>\n",
       "      <td>Marketing</td>\n",
       "      <td>0</td>\n",
       "      <td>US</td>\n",
       "    </tr>\n",
       "    <tr>\n",
       "      <th>1</th>\n",
       "      <td>Customer Service - Cloud Video Production</td>\n",
       "      <td>Success</td>\n",
       "      <td>1</td>\n",
       "      <td>1</td>\n",
       "      <td>1</td>\n",
       "      <td>1</td>\n",
       "      <td>0</td>\n",
       "      <td>1</td>\n",
       "      <td>0</td>\n",
       "      <td>Full-time</td>\n",
       "      <td>Not Applicable</td>\n",
       "      <td>NaN</td>\n",
       "      <td>Marketing and Advertising</td>\n",
       "      <td>Customer Service</td>\n",
       "      <td>0</td>\n",
       "      <td>NZ</td>\n",
       "    </tr>\n",
       "    <tr>\n",
       "      <th>2</th>\n",
       "      <td>Commissioning Machinery Assistant (CMA)</td>\n",
       "      <td>NaN</td>\n",
       "      <td>1</td>\n",
       "      <td>1</td>\n",
       "      <td>1</td>\n",
       "      <td>0</td>\n",
       "      <td>0</td>\n",
       "      <td>1</td>\n",
       "      <td>0</td>\n",
       "      <td>NaN</td>\n",
       "      <td>NaN</td>\n",
       "      <td>NaN</td>\n",
       "      <td>NaN</td>\n",
       "      <td>NaN</td>\n",
       "      <td>0</td>\n",
       "      <td>US</td>\n",
       "    </tr>\n",
       "    <tr>\n",
       "      <th>3</th>\n",
       "      <td>Account Executive - Washington DC</td>\n",
       "      <td>Sales</td>\n",
       "      <td>1</td>\n",
       "      <td>1</td>\n",
       "      <td>1</td>\n",
       "      <td>1</td>\n",
       "      <td>0</td>\n",
       "      <td>1</td>\n",
       "      <td>0</td>\n",
       "      <td>Full-time</td>\n",
       "      <td>Mid-Senior level</td>\n",
       "      <td>Bachelor's Degree</td>\n",
       "      <td>Computer Software</td>\n",
       "      <td>Sales</td>\n",
       "      <td>0</td>\n",
       "      <td>US</td>\n",
       "    </tr>\n",
       "    <tr>\n",
       "      <th>4</th>\n",
       "      <td>Bill Review Manager</td>\n",
       "      <td>NaN</td>\n",
       "      <td>1</td>\n",
       "      <td>1</td>\n",
       "      <td>1</td>\n",
       "      <td>1</td>\n",
       "      <td>0</td>\n",
       "      <td>1</td>\n",
       "      <td>1</td>\n",
       "      <td>Full-time</td>\n",
       "      <td>Mid-Senior level</td>\n",
       "      <td>Bachelor's Degree</td>\n",
       "      <td>Hospital &amp; Health Care</td>\n",
       "      <td>Health Care Provider</td>\n",
       "      <td>0</td>\n",
       "      <td>US</td>\n",
       "    </tr>\n",
       "  </tbody>\n",
       "</table>\n",
       "</div>"
      ],
      "text/plain": [
       "                                       title department  company_profile  \\\n",
       "0                           Marketing Intern  Marketing                1   \n",
       "1  Customer Service - Cloud Video Production    Success                1   \n",
       "2    Commissioning Machinery Assistant (CMA)        NaN                1   \n",
       "3          Account Executive - Washington DC      Sales                1   \n",
       "4                        Bill Review Manager        NaN                1   \n",
       "\n",
       "   description  requirements  benefits  telecommuting  has_company_logo  \\\n",
       "0            1             1         0              0                 1   \n",
       "1            1             1         1              0                 1   \n",
       "2            1             1         0              0                 1   \n",
       "3            1             1         1              0                 1   \n",
       "4            1             1         1              0                 1   \n",
       "\n",
       "   has_questions employment_type required_experience required_education  \\\n",
       "0              0           Other          Internship                NaN   \n",
       "1              0       Full-time      Not Applicable                NaN   \n",
       "2              0             NaN                 NaN                NaN   \n",
       "3              0       Full-time    Mid-Senior level  Bachelor's Degree   \n",
       "4              1       Full-time    Mid-Senior level  Bachelor's Degree   \n",
       "\n",
       "                    industry              function  fraudulent country  \n",
       "0                        NaN             Marketing           0      US  \n",
       "1  Marketing and Advertising      Customer Service           0      NZ  \n",
       "2                        NaN                   NaN           0      US  \n",
       "3          Computer Software                 Sales           0      US  \n",
       "4     Hospital & Health Care  Health Care Provider           0      US  "
      ]
     },
     "execution_count": 14,
     "metadata": {},
     "output_type": "execute_result"
    }
   ],
   "source": [
    "df['benefits'] = df['benefits'].apply(fill_missing_values)\n",
    "df['company_profile'] = df['company_profile'].apply(fill_missing_values)\n",
    "df['description'] = df['description'].apply(fill_missing_values)\n",
    "df['requirements'] = df['requirements'].apply(fill_missing_values)\n",
    "\n",
    "df.head()"
   ]
  },
  {
   "cell_type": "markdown",
   "metadata": {},
   "source": [
    "### Handling Missing Values"
   ]
  },
  {
   "cell_type": "code",
   "execution_count": 15,
   "metadata": {},
   "outputs": [],
   "source": [
    "df['department'].fillna(\"No registered\", inplace=True)\n",
    "df['required_education'].fillna(\"No registered\", inplace=True)\n",
    "df['required_experience'].fillna(\"No registered\", inplace=True)\n",
    "df['industry'].fillna(\"No registered\", inplace=True)\n",
    "df['function'].fillna(\"No registered\", inplace=True)\n",
    "df['employment_type'].fillna(\"No registered\", inplace=True)"
   ]
  },
  {
   "cell_type": "code",
   "execution_count": 16,
   "metadata": {},
   "outputs": [
    {
     "data": {
      "text/html": [
       "<div>\n",
       "<style scoped>\n",
       "    .dataframe tbody tr th:only-of-type {\n",
       "        vertical-align: middle;\n",
       "    }\n",
       "\n",
       "    .dataframe tbody tr th {\n",
       "        vertical-align: top;\n",
       "    }\n",
       "\n",
       "    .dataframe thead th {\n",
       "        text-align: right;\n",
       "    }\n",
       "</style>\n",
       "<table border=\"1\" class=\"dataframe\">\n",
       "  <thead>\n",
       "    <tr style=\"text-align: right;\">\n",
       "      <th></th>\n",
       "      <th>title</th>\n",
       "      <th>department</th>\n",
       "      <th>company_profile</th>\n",
       "      <th>description</th>\n",
       "      <th>requirements</th>\n",
       "      <th>benefits</th>\n",
       "      <th>telecommuting</th>\n",
       "      <th>has_company_logo</th>\n",
       "      <th>has_questions</th>\n",
       "      <th>employment_type</th>\n",
       "      <th>required_experience</th>\n",
       "      <th>required_education</th>\n",
       "      <th>industry</th>\n",
       "      <th>function</th>\n",
       "      <th>fraudulent</th>\n",
       "      <th>country</th>\n",
       "    </tr>\n",
       "  </thead>\n",
       "  <tbody>\n",
       "    <tr>\n",
       "      <th>0</th>\n",
       "      <td>Marketing Intern</td>\n",
       "      <td>Marketing</td>\n",
       "      <td>1</td>\n",
       "      <td>1</td>\n",
       "      <td>1</td>\n",
       "      <td>0</td>\n",
       "      <td>0</td>\n",
       "      <td>1</td>\n",
       "      <td>0</td>\n",
       "      <td>Other</td>\n",
       "      <td>Internship</td>\n",
       "      <td>No registered</td>\n",
       "      <td>No registered</td>\n",
       "      <td>Marketing</td>\n",
       "      <td>0</td>\n",
       "      <td>US</td>\n",
       "    </tr>\n",
       "    <tr>\n",
       "      <th>1</th>\n",
       "      <td>Customer Service - Cloud Video Production</td>\n",
       "      <td>Success</td>\n",
       "      <td>1</td>\n",
       "      <td>1</td>\n",
       "      <td>1</td>\n",
       "      <td>1</td>\n",
       "      <td>0</td>\n",
       "      <td>1</td>\n",
       "      <td>0</td>\n",
       "      <td>Full-time</td>\n",
       "      <td>Not Applicable</td>\n",
       "      <td>No registered</td>\n",
       "      <td>Marketing and Advertising</td>\n",
       "      <td>Customer Service</td>\n",
       "      <td>0</td>\n",
       "      <td>NZ</td>\n",
       "    </tr>\n",
       "    <tr>\n",
       "      <th>2</th>\n",
       "      <td>Commissioning Machinery Assistant (CMA)</td>\n",
       "      <td>No registered</td>\n",
       "      <td>1</td>\n",
       "      <td>1</td>\n",
       "      <td>1</td>\n",
       "      <td>0</td>\n",
       "      <td>0</td>\n",
       "      <td>1</td>\n",
       "      <td>0</td>\n",
       "      <td>No registered</td>\n",
       "      <td>No registered</td>\n",
       "      <td>No registered</td>\n",
       "      <td>No registered</td>\n",
       "      <td>No registered</td>\n",
       "      <td>0</td>\n",
       "      <td>US</td>\n",
       "    </tr>\n",
       "    <tr>\n",
       "      <th>3</th>\n",
       "      <td>Account Executive - Washington DC</td>\n",
       "      <td>Sales</td>\n",
       "      <td>1</td>\n",
       "      <td>1</td>\n",
       "      <td>1</td>\n",
       "      <td>1</td>\n",
       "      <td>0</td>\n",
       "      <td>1</td>\n",
       "      <td>0</td>\n",
       "      <td>Full-time</td>\n",
       "      <td>Mid-Senior level</td>\n",
       "      <td>Bachelor's Degree</td>\n",
       "      <td>Computer Software</td>\n",
       "      <td>Sales</td>\n",
       "      <td>0</td>\n",
       "      <td>US</td>\n",
       "    </tr>\n",
       "    <tr>\n",
       "      <th>4</th>\n",
       "      <td>Bill Review Manager</td>\n",
       "      <td>No registered</td>\n",
       "      <td>1</td>\n",
       "      <td>1</td>\n",
       "      <td>1</td>\n",
       "      <td>1</td>\n",
       "      <td>0</td>\n",
       "      <td>1</td>\n",
       "      <td>1</td>\n",
       "      <td>Full-time</td>\n",
       "      <td>Mid-Senior level</td>\n",
       "      <td>Bachelor's Degree</td>\n",
       "      <td>Hospital &amp; Health Care</td>\n",
       "      <td>Health Care Provider</td>\n",
       "      <td>0</td>\n",
       "      <td>US</td>\n",
       "    </tr>\n",
       "    <tr>\n",
       "      <th>5</th>\n",
       "      <td>Accounting Clerk</td>\n",
       "      <td>No registered</td>\n",
       "      <td>0</td>\n",
       "      <td>1</td>\n",
       "      <td>0</td>\n",
       "      <td>0</td>\n",
       "      <td>0</td>\n",
       "      <td>0</td>\n",
       "      <td>0</td>\n",
       "      <td>No registered</td>\n",
       "      <td>No registered</td>\n",
       "      <td>No registered</td>\n",
       "      <td>No registered</td>\n",
       "      <td>No registered</td>\n",
       "      <td>0</td>\n",
       "      <td>US</td>\n",
       "    </tr>\n",
       "    <tr>\n",
       "      <th>6</th>\n",
       "      <td>Head of Content (m/f)</td>\n",
       "      <td>ANDROIDPIT</td>\n",
       "      <td>1</td>\n",
       "      <td>1</td>\n",
       "      <td>1</td>\n",
       "      <td>1</td>\n",
       "      <td>0</td>\n",
       "      <td>1</td>\n",
       "      <td>1</td>\n",
       "      <td>Full-time</td>\n",
       "      <td>Mid-Senior level</td>\n",
       "      <td>Master's Degree</td>\n",
       "      <td>Online Media</td>\n",
       "      <td>Management</td>\n",
       "      <td>0</td>\n",
       "      <td>DE</td>\n",
       "    </tr>\n",
       "    <tr>\n",
       "      <th>7</th>\n",
       "      <td>Lead Guest Service Specialist</td>\n",
       "      <td>No registered</td>\n",
       "      <td>1</td>\n",
       "      <td>1</td>\n",
       "      <td>1</td>\n",
       "      <td>1</td>\n",
       "      <td>0</td>\n",
       "      <td>1</td>\n",
       "      <td>1</td>\n",
       "      <td>No registered</td>\n",
       "      <td>No registered</td>\n",
       "      <td>No registered</td>\n",
       "      <td>No registered</td>\n",
       "      <td>No registered</td>\n",
       "      <td>0</td>\n",
       "      <td>US</td>\n",
       "    </tr>\n",
       "    <tr>\n",
       "      <th>8</th>\n",
       "      <td>HP BSM SME</td>\n",
       "      <td>No registered</td>\n",
       "      <td>1</td>\n",
       "      <td>1</td>\n",
       "      <td>1</td>\n",
       "      <td>0</td>\n",
       "      <td>0</td>\n",
       "      <td>1</td>\n",
       "      <td>1</td>\n",
       "      <td>Full-time</td>\n",
       "      <td>Associate</td>\n",
       "      <td>No registered</td>\n",
       "      <td>Information Technology and Services</td>\n",
       "      <td>No registered</td>\n",
       "      <td>0</td>\n",
       "      <td>US</td>\n",
       "    </tr>\n",
       "    <tr>\n",
       "      <th>9</th>\n",
       "      <td>Customer Service Associate - Part Time</td>\n",
       "      <td>No registered</td>\n",
       "      <td>1</td>\n",
       "      <td>1</td>\n",
       "      <td>1</td>\n",
       "      <td>0</td>\n",
       "      <td>0</td>\n",
       "      <td>1</td>\n",
       "      <td>0</td>\n",
       "      <td>Part-time</td>\n",
       "      <td>Entry level</td>\n",
       "      <td>High School or equivalent</td>\n",
       "      <td>Financial Services</td>\n",
       "      <td>Customer Service</td>\n",
       "      <td>0</td>\n",
       "      <td>US</td>\n",
       "    </tr>\n",
       "  </tbody>\n",
       "</table>\n",
       "</div>"
      ],
      "text/plain": [
       "                                       title     department  company_profile  \\\n",
       "0                           Marketing Intern      Marketing                1   \n",
       "1  Customer Service - Cloud Video Production        Success                1   \n",
       "2    Commissioning Machinery Assistant (CMA)  No registered                1   \n",
       "3          Account Executive - Washington DC          Sales                1   \n",
       "4                        Bill Review Manager  No registered                1   \n",
       "5                           Accounting Clerk  No registered                0   \n",
       "6                      Head of Content (m/f)     ANDROIDPIT                1   \n",
       "7           Lead Guest Service Specialist     No registered                1   \n",
       "8                                 HP BSM SME  No registered                1   \n",
       "9    Customer Service Associate - Part Time   No registered                1   \n",
       "\n",
       "   description  requirements  benefits  telecommuting  has_company_logo  \\\n",
       "0            1             1         0              0                 1   \n",
       "1            1             1         1              0                 1   \n",
       "2            1             1         0              0                 1   \n",
       "3            1             1         1              0                 1   \n",
       "4            1             1         1              0                 1   \n",
       "5            1             0         0              0                 0   \n",
       "6            1             1         1              0                 1   \n",
       "7            1             1         1              0                 1   \n",
       "8            1             1         0              0                 1   \n",
       "9            1             1         0              0                 1   \n",
       "\n",
       "   has_questions employment_type required_experience  \\\n",
       "0              0           Other          Internship   \n",
       "1              0       Full-time      Not Applicable   \n",
       "2              0   No registered       No registered   \n",
       "3              0       Full-time    Mid-Senior level   \n",
       "4              1       Full-time    Mid-Senior level   \n",
       "5              0   No registered       No registered   \n",
       "6              1       Full-time    Mid-Senior level   \n",
       "7              1   No registered       No registered   \n",
       "8              1       Full-time           Associate   \n",
       "9              0       Part-time         Entry level   \n",
       "\n",
       "          required_education                             industry  \\\n",
       "0              No registered                        No registered   \n",
       "1              No registered            Marketing and Advertising   \n",
       "2              No registered                        No registered   \n",
       "3          Bachelor's Degree                    Computer Software   \n",
       "4          Bachelor's Degree               Hospital & Health Care   \n",
       "5              No registered                        No registered   \n",
       "6            Master's Degree                         Online Media   \n",
       "7              No registered                        No registered   \n",
       "8              No registered  Information Technology and Services   \n",
       "9  High School or equivalent                   Financial Services   \n",
       "\n",
       "               function  fraudulent country  \n",
       "0             Marketing           0      US  \n",
       "1      Customer Service           0      NZ  \n",
       "2         No registered           0      US  \n",
       "3                 Sales           0      US  \n",
       "4  Health Care Provider           0      US  \n",
       "5         No registered           0      US  \n",
       "6            Management           0      DE  \n",
       "7         No registered           0      US  \n",
       "8         No registered           0      US  \n",
       "9      Customer Service           0      US  "
      ]
     },
     "execution_count": 16,
     "metadata": {},
     "output_type": "execute_result"
    }
   ],
   "source": [
    "df.head(10)"
   ]
  },
  {
   "cell_type": "code",
   "execution_count": 17,
   "metadata": {},
   "outputs": [],
   "source": [
    "# df.to_csv('./data/fake_job_postings_clean.csv', index=False)"
   ]
  },
  {
   "cell_type": "code",
   "execution_count": 18,
   "metadata": {},
   "outputs": [
    {
     "data": {
      "text/plain": [
       "title                  11231\n",
       "department              1338\n",
       "company_profile            2\n",
       "description                2\n",
       "requirements               2\n",
       "benefits                   2\n",
       "telecommuting              2\n",
       "has_company_logo           2\n",
       "has_questions              2\n",
       "employment_type            6\n",
       "required_experience        8\n",
       "required_education        14\n",
       "industry                 132\n",
       "function                  38\n",
       "fraudulent                 2\n",
       "country                   91\n",
       "dtype: int64"
      ]
     },
     "execution_count": 18,
     "metadata": {},
     "output_type": "execute_result"
    }
   ],
   "source": [
    "df.nunique()"
   ]
  },
  {
   "cell_type": "markdown",
   "metadata": {},
   "source": [
    "## Split dataframe"
   ]
  },
  {
   "cell_type": "code",
   "execution_count": 19,
   "metadata": {},
   "outputs": [],
   "source": [
    "df_full_train, df_test = train_test_split(df, test_size=0.2, random_state=1)\n",
    "df_train, df_val = train_test_split(df_full_train, test_size=0.25, random_state=1)"
   ]
  },
  {
   "cell_type": "code",
   "execution_count": 20,
   "metadata": {},
   "outputs": [
    {
     "data": {
      "text/plain": [
       "(10728, 3576, 3576)"
      ]
     },
     "execution_count": 20,
     "metadata": {},
     "output_type": "execute_result"
    }
   ],
   "source": [
    "len(df_train), len(df_val), len(df_test)"
   ]
  },
  {
   "cell_type": "code",
   "execution_count": 21,
   "metadata": {},
   "outputs": [],
   "source": [
    "y_train = df_train.fraudulent\n",
    "y_val = df_val.fraudulent\n",
    "y_test = df_test.fraudulent\n",
    "\n",
    "del df_train['fraudulent']\n",
    "del df_val['fraudulent']\n",
    "del df_test['fraudulent']"
   ]
  },
  {
   "cell_type": "code",
   "execution_count": 22,
   "metadata": {},
   "outputs": [],
   "source": [
    "def mutual_info_fraudulent_score(series):\n",
    "    return mutual_info_score(series, df_full_train.fraudulent)"
   ]
  },
  {
   "cell_type": "code",
   "execution_count": 23,
   "metadata": {},
   "outputs": [
    {
     "data": {
      "text/plain": [
       "['department',\n",
       " 'company_profile',\n",
       " 'description',\n",
       " 'requirements',\n",
       " 'benefits',\n",
       " 'telecommuting',\n",
       " 'has_company_logo',\n",
       " 'has_questions',\n",
       " 'employment_type',\n",
       " 'required_experience',\n",
       " 'required_education',\n",
       " 'industry',\n",
       " 'function',\n",
       " 'country']"
      ]
     },
     "execution_count": 23,
     "metadata": {},
     "output_type": "execute_result"
    }
   ],
   "source": [
    "col = df_train.columns[1:].tolist()\n",
    "col"
   ]
  },
  {
   "cell_type": "code",
   "execution_count": 24,
   "metadata": {},
   "outputs": [
    {
     "data": {
      "text/plain": [
       "department             0.049254\n",
       "industry               0.032352\n",
       "company_profile        0.031830\n",
       "has_company_logo       0.027992\n",
       "country                0.018309\n",
       "function               0.015248\n",
       "required_education     0.008106\n",
       "has_questions          0.004556\n",
       "required_experience    0.004034\n",
       "employment_type        0.002541\n",
       "telecommuting          0.000358\n",
       "requirements           0.000289\n",
       "description            0.000210\n",
       "benefits               0.000038\n",
       "dtype: float64"
      ]
     },
     "execution_count": 24,
     "metadata": {},
     "output_type": "execute_result"
    }
   ],
   "source": [
    "mi = df_full_train[col].apply(mutual_info_fraudulent_score)\n",
    "mi.sort_values(ascending=False)"
   ]
  },
  {
   "cell_type": "code",
   "execution_count": 25,
   "metadata": {},
   "outputs": [],
   "source": [
    "cols_final = mi.sort_values(ascending=False).index[0:10]"
   ]
  },
  {
   "cell_type": "code",
   "execution_count": 26,
   "metadata": {},
   "outputs": [],
   "source": [
    "df_train = df_train[cols_final]\n",
    "df_val = df_val[cols_final]\n",
    "df_test = df_test[cols_final]"
   ]
  },
  {
   "cell_type": "markdown",
   "metadata": {},
   "source": [
    "## Transformation"
   ]
  },
  {
   "cell_type": "code",
   "execution_count": 27,
   "metadata": {},
   "outputs": [],
   "source": [
    "dv = DictVectorizer(sparse=False)\n",
    "\n",
    "train_dict = df_train.to_dict(orient='records')\n",
    "X_train = dv.fit_transform(train_dict)\n",
    "\n",
    "test_dict = df_test.to_dict(orient='records')\n",
    "X_test = dv.transform(test_dict)\n",
    "\n",
    "val_dict = df_val.to_dict(orient='records')\n",
    "X_val = dv.transform(val_dict)"
   ]
  },
  {
   "cell_type": "code",
   "execution_count": 28,
   "metadata": {},
   "outputs": [
    {
     "data": {
      "text/plain": [
       "(10728, 1243)"
      ]
     },
     "execution_count": 28,
     "metadata": {},
     "output_type": "execute_result"
    }
   ],
   "source": [
    "X_train.shape"
   ]
  },
  {
   "cell_type": "markdown",
   "metadata": {},
   "source": [
    "## Unbalance handling"
   ]
  },
  {
   "cell_type": "code",
   "execution_count": 29,
   "metadata": {},
   "outputs": [],
   "source": [
    "from imblearn.over_sampling import SMOTE"
   ]
  },
  {
   "cell_type": "code",
   "execution_count": 30,
   "metadata": {},
   "outputs": [],
   "source": [
    "# Aplicar SMOTE\n",
    "smote = SMOTE(random_state=42)\n",
    "X_train, y_train = smote.fit_resample(X_train, y_train)"
   ]
  },
  {
   "cell_type": "code",
   "execution_count": 31,
   "metadata": {},
   "outputs": [
    {
     "data": {
      "text/plain": [
       "(20382, 20382)"
      ]
     },
     "execution_count": 31,
     "metadata": {},
     "output_type": "execute_result"
    }
   ],
   "source": [
    "len(X_train), len(y_train)"
   ]
  },
  {
   "cell_type": "code",
   "execution_count": 32,
   "metadata": {},
   "outputs": [],
   "source": [
    "from sklearn.metrics import classification_report, accuracy_score, f1_score, roc_auc_score\n",
    "from sklearn.linear_model import LogisticRegression\n",
    "from sklearn.tree import DecisionTreeClassifier\n",
    "from sklearn.ensemble import RandomForestClassifier\n",
    "from sklearn.svm import SVC"
   ]
  },
  {
   "cell_type": "code",
   "execution_count": 33,
   "metadata": {},
   "outputs": [
    {
     "name": "stdout",
     "output_type": "stream",
     "text": [
      "Model: Logistic Regression\n",
      "  Accuracy: 0.9027\n",
      "  F1 Score: 0.4181\n",
      "  ROC AUC Score: 0.8618\n",
      "\n",
      "Model: Decision Tree\n",
      "  Accuracy: 0.9606\n",
      "  F1 Score: 0.6199\n",
      "  ROC AUC Score: 0.8608\n",
      "\n",
      "Model: Random Forest\n",
      "  Accuracy: 0.9701\n",
      "  F1 Score: 0.6646\n",
      "  ROC AUC Score: 0.8376\n",
      "\n",
      "Model: SVM\n",
      "  Accuracy: 0.9544\n",
      "  F1 Score: 0.6034\n",
      "  ROC AUC Score: 0.8857\n",
      "\n"
     ]
    }
   ],
   "source": [
    "models = {\n",
    "    \"Logistic Regression\": LogisticRegression(max_iter=1000),\n",
    "    \"Decision Tree\": DecisionTreeClassifier(),\n",
    "    \"Random Forest\": RandomForestClassifier(),\n",
    "    \"SVM\": SVC()\n",
    "}\n",
    "\n",
    "# Entrenando y evaluando cada modelo\n",
    "results = {}\n",
    "for name, model in models.items():\n",
    "    # Entrenar modelo\n",
    "    model.fit(X_train, y_train)\n",
    "    \n",
    "    # Predicciones\n",
    "    y_pred = model.predict(X_test)\n",
    "\n",
    "    # Calculando métricas\n",
    "    accuracy = accuracy_score(y_test, y_pred)\n",
    "    f1 = f1_score(y_test, y_pred)\n",
    "    roc_auc = roc_auc_score(y_test, y_pred)\n",
    "\n",
    "    # Guardando resultados\n",
    "    results[name] = {'Accuracy': accuracy, 'F1 Score': f1, 'ROC AUC Score': roc_auc}\n",
    "\n",
    "# Imprimiendo los resultados\n",
    "for name, metrics in results.items():\n",
    "    print(f\"Model: {name}\")\n",
    "    for metric, value in metrics.items():\n",
    "        print(f\"  {metric}: {value:.4f}\")\n",
    "    print()"
   ]
  },
  {
   "cell_type": "markdown",
   "metadata": {},
   "source": [
    "The model with best ROC AUC score is SVM.So, we proceed to visualize the ROC curve for it."
   ]
  },
  {
   "cell_type": "code",
   "execution_count": 34,
   "metadata": {},
   "outputs": [
    {
     "data": {
      "text/plain": [
       "array([0, 0, 0, ..., 1, 0, 0], dtype=int64)"
      ]
     },
     "execution_count": 34,
     "metadata": {},
     "output_type": "execute_result"
    }
   ],
   "source": [
    "svm = SVC()\n",
    "svm.fit(X_train, y_train)\n",
    "\n",
    "y_pred = svm.predict(X_test)\n",
    "y_pred"
   ]
  },
  {
   "cell_type": "code",
   "execution_count": 37,
   "metadata": {},
   "outputs": [],
   "source": [
    "fpr, tpr, thresholds = roc_curve(y_test, y_pred)"
   ]
  },
  {
   "cell_type": "code",
   "execution_count": 39,
   "metadata": {},
   "outputs": [
    {
     "data": {
      "image/png": "[encoded data removed]",
      "text/plain": [
       "<Figure size 640x480 with 1 Axes>"
      ]
     },
     "metadata": {},
     "output_type": "display_data"
    }
   ],
   "source": [
    "# Calcular el área bajo la curva (AUC)\n",
    "roc_auc = auc(fpr, tpr)\n",
    "\n",
    "# Generar la curva ROC\n",
    "plt.figure()\n",
    "plt.plot(fpr, tpr, color='darkorange', lw=2, label='ROC curve (area = %0.2f)' % roc_auc)\n",
    "plt.plot([0, 1], [0, 1], color='navy', lw=2, linestyle='--')\n",
    "plt.xlim([0.0, 1.0])\n",
    "plt.ylim([0.0, 1.05])\n",
    "plt.xlabel('False Positive Rate')\n",
    "plt.ylabel('True Positive Rate')\n",
    "plt.title('ROC AUC Curve')\n",
    "plt.legend(loc=\"lower right\")\n",
    "plt.show()"
   ]
  },
  {
   "cell_type": "code",
   "execution_count": 48,
   "metadata": {},
   "outputs": [
    {
     "name": "stdout",
     "output_type": "stream",
     "text": [
      "Fitting 5 folds for each of 4 candidates, totalling 20 fits\n"
     ]
    },
    {
     "data": {
      "text/plain": [
       "({'C': 1, 'gamma': 'scale'}, 0.97321168824948)"
      ]
     },
     "execution_count": 48,
     "metadata": {},
     "output_type": "execute_result"
    }
   ],
   "source": [
    "svm_model = SVC()\n",
    "\n",
    "# Definición de la cuadrícula de hiperparámetros a buscar\n",
    "param_grid = {\n",
    "    'C': [0.1, 1],\n",
    "    'gamma': ['scale', 'auto' ]\n",
    "}\n",
    "\n",
    "# Crear el objeto GridSearchCV\n",
    "grid_search = GridSearchCV(estimator=svm_model, param_grid=param_grid, \n",
    "                           cv=5, n_jobs=-1, verbose=2, scoring='accuracy')\n",
    "\n",
    "# Ajuste de hiperparámetros en el conjunto de entrenamiento\n",
    "grid_search.fit(X_train, y_train)\n",
    "\n",
    "# Mejores hiperparámetros y puntuación\n",
    "best_params = grid_search.best_params_\n",
    "best_score = grid_search.best_score_\n",
    "\n",
    "best_params, best_score"
   ]
  },
  {
   "cell_type": "markdown",
   "metadata": {},
   "source": [
    "## Best hyperparameters\n",
    "\n",
    "C = 1  \n",
    "gamma = scale"
   ]
  },
  {
   "cell_type": "code",
   "execution_count": 57,
   "metadata": {},
   "outputs": [
    {
     "name": "stdout",
     "output_type": "stream",
     "text": [
      "Best hyperparameters:  {'C': 1, 'gamma': 'scale'}\n"
     ]
    }
   ],
   "source": [
    "print(\"Best hyperparameters: \", best_params)"
   ]
  },
  {
   "cell_type": "code",
   "execution_count": 60,
   "metadata": {},
   "outputs": [],
   "source": [
    "best_c = best_params['C']\n",
    "best_gamma = best_params['gamma']\n",
    "\n",
    "# best_c, best_gamma\n",
    "\n",
    "svm_model = SVC(C=best_c, gamma=best_gamma)\n",
    "svm_model.fit(X_train, y_train)\n",
    "\n",
    "y_pred = svm_model.predict(X_test)\n"
   ]
  },
  {
   "cell_type": "code",
   "execution_count": 62,
   "metadata": {},
   "outputs": [
    {
     "name": "stdout",
     "output_type": "stream",
     "text": [
      "Accuracy:  0.9544183445190156\n",
      "F1 Score:  0.6034063260340633\n",
      "ROC AUC Score:  0.885655284608731\n"
     ]
    }
   ],
   "source": [
    "# Evaluation metrics\n",
    "\n",
    "print(\"Accuracy: \", accuracy_score(y_test, y_pred))\n",
    "print(\"F1 Score: \", f1_score(y_test, y_pred))\n",
    "print(\"ROC AUC Score: \", roc_auc_score(y_test, y_pred))"
   ]
  },
  {
   "cell_type": "markdown",
   "metadata": {},
   "source": [
    "## Save the model"
   ]
  },
  {
   "cell_type": "code",
   "execution_count": 58,
   "metadata": {},
   "outputs": [],
   "source": [
    "import pickle"
   ]
  },
  {
   "cell_type": "code",
   "execution_count": 63,
   "metadata": {},
   "outputs": [],
   "source": [
    "output_file = 'model.bin'\n",
    "\n",
    "f_out = open(output_file, 'wb')\n",
    "pickle.dump((dv, svm_model), f_out)\n",
    "f_out.close()"
   ]
  },
  {
   "cell_type": "markdown",
   "metadata": {},
   "source": [
    "## Load Model"
   ]
  },
  {
   "cell_type": "code",
   "execution_count": 64,
   "metadata": {},
   "outputs": [],
   "source": [
    "input_file = 'model.bin'\n",
    "\n",
    "# Load the model from the pickle file\n",
    "with open(input_file, 'rb') as f_in: \n",
    "    dv, svm_model = pickle.load(f_in)"
   ]
  },
  {
   "cell_type": "markdown",
   "metadata": {},
   "source": [
    "## Test the model"
   ]
  },
  {
   "cell_type": "code",
   "execution_count": 100,
   "metadata": {},
   "outputs": [
    {
     "data": {
      "text/plain": [
       "2598"
      ]
     },
     "execution_count": 100,
     "metadata": {},
     "output_type": "execute_result"
    }
   ],
   "source": [
    "# generate a random integer from 0 to len(df_test)\n",
    "\n",
    "sample = np.random.randint(0, len(df_test))\n",
    "sample"
   ]
  },
  {
   "cell_type": "code",
   "execution_count": 101,
   "metadata": {},
   "outputs": [
    {
     "data": {
      "text/plain": [
       "department                Operations\n",
       "industry               No registered\n",
       "company_profile                    1\n",
       "has_company_logo                   1\n",
       "country                           US\n",
       "function                       Other\n",
       "required_education     No registered\n",
       "has_questions                      1\n",
       "required_experience    No registered\n",
       "employment_type        No registered\n",
       "Name: 758, dtype: object"
      ]
     },
     "execution_count": 101,
     "metadata": {},
     "output_type": "execute_result"
    }
   ],
   "source": [
    "job = df_test.iloc[sample]\n",
    "# .to_dict(orient='records')[0]\n",
    "job"
   ]
  },
  {
   "cell_type": "code",
   "execution_count": 102,
   "metadata": {},
   "outputs": [
    {
     "data": {
      "text/plain": [
       "0"
      ]
     },
     "execution_count": 102,
     "metadata": {},
     "output_type": "execute_result"
    }
   ],
   "source": [
    "X_test = dv.transform([job])\n",
    "y_pred = svm_model.predict(X_test)[0]\n",
    "y_pred"
   ]
  },
  {
   "cell_type": "code",
   "execution_count": 103,
   "metadata": {},
   "outputs": [
    {
     "data": {
      "text/plain": [
       "0"
      ]
     },
     "execution_count": 103,
     "metadata": {},
     "output_type": "execute_result"
    }
   ],
   "source": [
    "y_test.iloc[sample]"
   ]
  },
  {
   "cell_type": "code",
   "execution_count": 150,
   "metadata": {},
   "outputs": [],
   "source": [
    "def clean (job):\n",
    "    df = pd.DataFrame([job])\n",
    "    if 'job_id' in df.columns:\n",
    "        del df['job_id']\n",
    "    if 'salary_range' in df.columns:\n",
    "        del df['salary_range']\n",
    "\n",
    "    if 'fraudulent' in df.columns:\n",
    "        del df['fraudulent']\n",
    "\n",
    "    df['location'].fillna(\"No location\", inplace=True)\n",
    "    df['country'] = df['location'].apply(lambda x: x.split(\", \")[0])\n",
    "    del df['location']\n",
    "\n",
    "    df['benefits'] = df['benefits'].apply(fill_missing_values)\n",
    "    df['company_profile'] = df['company_profile'].apply(fill_missing_values)\n",
    "    df['description'] = df['description'].apply(fill_missing_values)\n",
    "    df['requirements'] = df['requirements'].apply(fill_missing_values)\n",
    "\n",
    "    df['department'].fillna(\"No registered\", inplace=True)\n",
    "    df['required_education'].fillna(\"No registered\", inplace=True)\n",
    "    df['required_experience'].fillna(\"No registered\", inplace=True)\n",
    "    df['industry'].fillna(\"No registered\", inplace=True)\n",
    "    df['function'].fillna(\"No registered\", inplace=True)\n",
    "    df['employment_type'].fillna(\"No registered\", inplace=True)\n",
    "\n",
    "    df = df [['department','company_profile','description','requirements','benefits','telecommuting','has_company_logo','has_questions','employment_type','required_experience','required_education','industry','function','country']]\n",
    "\n",
    "    return df.to_dict(orient='records')[0]"
   ]
  },
  {
   "cell_type": "code",
   "execution_count": 157,
   "metadata": {},
   "outputs": [
    {
     "ename": "NameError",
     "evalue": "name 'nan' is not defined",
     "output_type": "error",
     "traceback": [
      "\u001b[1;31m---------------------------------------------------------------------------\u001b[0m",
      "\u001b[1;31mNameError\u001b[0m                                 Traceback (most recent call last)",
      "Cell \u001b[1;32mIn[157], line 5\u001b[0m\n\u001b[0;32m      1\u001b[0m job \u001b[38;5;241m=\u001b[39m{\u001b[38;5;124m'\u001b[39m\u001b[38;5;124mjob_id\u001b[39m\u001b[38;5;124m'\u001b[39m: \u001b[38;5;241m4351\u001b[39m,\n\u001b[0;32m      2\u001b[0m   \u001b[38;5;124m'\u001b[39m\u001b[38;5;124mtitle\u001b[39m\u001b[38;5;124m'\u001b[39m: \u001b[38;5;124m'\u001b[39m\u001b[38;5;124mAssembly & Test Engineer\u001b[39m\u001b[38;5;124m'\u001b[39m,\n\u001b[0;32m      3\u001b[0m   \u001b[38;5;124m'\u001b[39m\u001b[38;5;124mlocation\u001b[39m\u001b[38;5;124m'\u001b[39m: \u001b[38;5;124m'\u001b[39m\u001b[38;5;124mUS, TX, Houston\u001b[39m\u001b[38;5;124m'\u001b[39m,\n\u001b[0;32m      4\u001b[0m   \u001b[38;5;124m'\u001b[39m\u001b[38;5;124mdepartment\u001b[39m\u001b[38;5;124m'\u001b[39m: \u001b[38;5;124m'\u001b[39m\u001b[38;5;124mEngineering\u001b[39m\u001b[38;5;124m'\u001b[39m,\n\u001b[1;32m----> 5\u001b[0m   \u001b[38;5;124m'\u001b[39m\u001b[38;5;124msalary_range\u001b[39m\u001b[38;5;124m'\u001b[39m: \u001b[43mnan\u001b[49m,\n\u001b[0;32m      6\u001b[0m   \u001b[38;5;124m'\u001b[39m\u001b[38;5;124mcompany_profile\u001b[39m\u001b[38;5;124m'\u001b[39m: nan,\n\u001b[0;32m      7\u001b[0m   \u001b[38;5;124m'\u001b[39m\u001b[38;5;124mdescription\u001b[39m\u001b[38;5;124m'\u001b[39m: \u001b[38;5;124m\"\u001b[39m\u001b[38;5;124mCorporate overviewAker Solutions is a global provider of products, systems and services to the oil and gas industry. Our engineering, design and technology bring discoveries into production and maximize recovery from each petroleum field. We employ approximately 28,000 people in about 30 countries. Go to #URL_0fa3f7c5e23a16de16a841e368006cae916884407d90b154dfef3976483a71ae# for more information on our business, people and values.We are looking for individuals who are prepared to take a position. Not only a position within Aker Solutions, but also a position on the exciting challenges the global oil and gas industry faces now and in the future.Aker Solutions\u001b[39m\u001b[38;5;124m'\u001b[39m\u001b[38;5;124m Subsea team based in Houston, TX is responsible for design, engineering, procurement and assembly/test of complex subsea systems. We need new talents who can strengthen our team and support our ambitious growth plans within the subsea market. We are looking for: Assembly &amp; Test Engineer.Responsibilities and tasks • Assembly and Test Engineer initiates work tasks to be carried out by the workshop, follows the quality standards and plans the use of resources in order to increase the efficiency of the organization• Responsible for delivering on time according to plans and manages the day-to-day work tasks in a cost effective, safe, and efficient manner• Create work orders and issue work packages in accordance with contract/project requirements and according to procedure• Arrange and call for pre-job meeting with work shop personnel • Participate on hand-over (tool box) meetings in work shop• Responsible for updating work packages related to specific project needsor NCR (CQN) reports• Follow-up progress in workshop and respond without delay on requests for support• Making requisitions towards supply chain to handle unplanned activities• Inform project manager or line manager when Variation Orders is required, for additional work on existing SOW or when change in original SOW• Continuously verify that all relevant documents are completed according to job package procedure • Evaluate the risk of operations and the compliance with laws, standards and policies• Participates in SAFOP/SJA and other HSE related activities in WS• Make sure that special tools and equipment to the planned work (according to work order/package) in assigned projects are available and certified • Control/monitor that necessary materials are received and in place before start of assembly and test• Contribute to the design and improvement of special tools to perform the work in the workshop• Inform and if applicable submit formal status reports to project manager on assigned work tasks/SOW • Write NCRs when deviation is detected• Provide Project manager with input to lessons learned• Participate and contribute with expertise in Tender work\u001b[39m\u001b[38;5;124m\"\u001b[39m,\n\u001b[0;32m      8\u001b[0m   \u001b[38;5;124m'\u001b[39m\u001b[38;5;124mrequirements\u001b[39m\u001b[38;5;124m'\u001b[39m: \u001b[38;5;124m'\u001b[39m\u001b[38;5;124mQualifications &amp; personal attributes • Mechanical/technical experience and insight, engineering degree or relevant business experience• Preferably 3-5 years’ experience in Subsea Workshop or similar industry• Structured and methodical• Strong interpersonal skills with the ability to work effectively both within a team environment and with limited supervision, ability to take lead • SAP and Microsoft Office skills preferable• Fluent in English with good verbal and written communication skillsCompany values:• Ensure understanding of HSE standards, model HSE behaviours, minimize accidents• Ensure team complies with policies and procedures• Create and build cohesive teamwork• Enhance client satisfaction on all products, service and relationship with company\u001b[39m\u001b[38;5;124m'\u001b[39m,\n\u001b[0;32m      9\u001b[0m   \u001b[38;5;124m'\u001b[39m\u001b[38;5;124mbenefits\u001b[39m\u001b[38;5;124m'\u001b[39m: \u001b[38;5;124m'\u001b[39m\u001b[38;5;124mWe offer • Friendly colleagues in an industry with a bright future.• An environment where you are encouraged to develop your skills and share your knowledge with your colleagues.• Competitive benefits and strong focus on work-life balance.\u001b[39m\u001b[38;5;124m'\u001b[39m,\n\u001b[0;32m     10\u001b[0m   \u001b[38;5;124m'\u001b[39m\u001b[38;5;124mtelecommuting\u001b[39m\u001b[38;5;124m'\u001b[39m: \u001b[38;5;241m0\u001b[39m,\n\u001b[0;32m     11\u001b[0m   \u001b[38;5;124m'\u001b[39m\u001b[38;5;124mhas_company_logo\u001b[39m\u001b[38;5;124m'\u001b[39m: \u001b[38;5;241m0\u001b[39m,\n\u001b[0;32m     12\u001b[0m   \u001b[38;5;124m'\u001b[39m\u001b[38;5;124mhas_questions\u001b[39m\u001b[38;5;124m'\u001b[39m: \u001b[38;5;241m0\u001b[39m,\n\u001b[0;32m     13\u001b[0m   \u001b[38;5;124m'\u001b[39m\u001b[38;5;124memployment_type\u001b[39m\u001b[38;5;124m'\u001b[39m: nan,\n\u001b[0;32m     14\u001b[0m   \u001b[38;5;124m'\u001b[39m\u001b[38;5;124mrequired_experience\u001b[39m\u001b[38;5;124m'\u001b[39m: nan,\n\u001b[0;32m     15\u001b[0m   \u001b[38;5;124m'\u001b[39m\u001b[38;5;124mrequired_education\u001b[39m\u001b[38;5;124m'\u001b[39m: nan,\n\u001b[0;32m     16\u001b[0m   \u001b[38;5;124m'\u001b[39m\u001b[38;5;124mindustry\u001b[39m\u001b[38;5;124m'\u001b[39m: \u001b[38;5;124m'\u001b[39m\u001b[38;5;124mOil & Energy\u001b[39m\u001b[38;5;124m'\u001b[39m,\n\u001b[0;32m     17\u001b[0m   \u001b[38;5;124m'\u001b[39m\u001b[38;5;124mfunction\u001b[39m\u001b[38;5;124m'\u001b[39m: \u001b[38;5;124m'\u001b[39m\u001b[38;5;124mEngineering\u001b[39m\u001b[38;5;124m'\u001b[39m}\n",
      "\u001b[1;31mNameError\u001b[0m: name 'nan' is not defined"
     ]
    }
   ],
   "source": [
    "job ={'job_id': 4351,\n",
    "  'title': 'Assembly & Test Engineer',\n",
    "  'location': 'US, TX, Houston',\n",
    "  'department': 'Engineering',\n",
    "  'salary_range': nan,\n",
    "  'company_profile': nan,\n",
    "  'description': \"Corporate overviewAker Solutions is a global provider of products, systems and services to the oil and gas industry. Our engineering, design and technology bring discoveries into production and maximize recovery from each petroleum field. We employ approximately 28,000 people in about 30 countries. Go to #URL_0fa3f7c5e23a16de16a841e368006cae916884407d90b154dfef3976483a71ae# for more information on our business, people and values.We are looking for individuals who are prepared to take a position. Not only a position within Aker Solutions, but also a position on the exciting challenges the global oil and gas industry faces now and in the future.Aker Solutions' Subsea team based in Houston, TX is responsible for design, engineering, procurement and assembly/test of complex subsea systems. We need new talents who can strengthen our team and support our ambitious growth plans within the subsea market. We are looking for: Assembly &amp; Test Engineer.Responsibilities and tasks • Assembly and Test Engineer initiates work tasks to be carried out by the workshop, follows the quality standards and plans the use of resources in order to increase the efficiency of the organization• Responsible for delivering on time according to plans and manages the day-to-day work tasks in a cost effective, safe, and efficient manner• Create work orders and issue work packages in accordance with contract/project requirements and according to procedure• Arrange and call for pre-job meeting with work shop personnel • Participate on hand-over (tool box) meetings in work shop• Responsible for updating work packages related to specific project needsor NCR (CQN) reports• Follow-up progress in workshop and respond without delay on requests for support• Making requisitions towards supply chain to handle unplanned activities• Inform project manager or line manager when Variation Orders is required, for additional work on existing SOW or when change in original SOW• Continuously verify that all relevant documents are completed according to job package procedure • Evaluate the risk of operations and the compliance with laws, standards and policies• Participates in SAFOP/SJA and other HSE related activities in WS• Make sure that special tools and equipment to the planned work (according to work order/package) in assigned projects are available and certified • Control/monitor that necessary materials are received and in place before start of assembly and test• Contribute to the design and improvement of special tools to perform the work in the workshop• Inform and if applicable submit formal status reports to project manager on assigned work tasks/SOW • Write NCRs when deviation is detected• Provide Project manager with input to lessons learned• Participate and contribute with expertise in Tender work\",\n",
    "  'requirements': 'Qualifications &amp; personal attributes • Mechanical/technical experience and insight, engineering degree or relevant business experience• Preferably 3-5 years’ experience in Subsea Workshop or similar industry• Structured and methodical• Strong interpersonal skills with the ability to work effectively both within a team environment and with limited supervision, ability to take lead • SAP and Microsoft Office skills preferable• Fluent in English with good verbal and written communication skillsCompany values:• Ensure understanding of HSE standards, model HSE behaviours, minimize accidents• Ensure team complies with policies and procedures• Create and build cohesive teamwork• Enhance client satisfaction on all products, service and relationship with company',\n",
    "  'benefits': 'We offer • Friendly colleagues in an industry with a bright future.• An environment where you are encouraged to develop your skills and share your knowledge with your colleagues.• Competitive benefits and strong focus on work-life balance.',\n",
    "  'telecommuting': 0,\n",
    "  'has_company_logo': 0,\n",
    "  'has_questions': 0,\n",
    "  'employment_type': nan,\n",
    "  'required_experience': nan,\n",
    "  'required_education': nan,\n",
    "  'industry': 'Oil & Energy',\n",
    "  'function': 'Engineering'}"
   ]
  },
  {
   "cell_type": "code",
   "execution_count": 149,
   "metadata": {},
   "outputs": [
    {
     "data": {
      "text/plain": [
       "{'department': 'Development',\n",
       " 'company_profile': 1,\n",
       " 'description': 1,\n",
       " 'requirements': 1,\n",
       " 'benefits': 1,\n",
       " 'telecommuting': 0,\n",
       " 'has_company_logo': 1,\n",
       " 'has_questions': 0,\n",
       " 'employment_type': 'Full-time',\n",
       " 'required_experience': 'Mid-Senior level',\n",
       " 'required_education': \"Bachelor's Degree\",\n",
       " 'industry': 'Information Technology and Services',\n",
       " 'function': 'Information Technology',\n",
       " 'country': 'GB'}"
      ]
     },
     "execution_count": 149,
     "metadata": {},
     "output_type": "execute_result"
    }
   ],
   "source": [
    "ejemplo = clean(job)\n",
    "ejemplo"
   ]
  },
  {
   "cell_type": "code",
   "execution_count": 147,
   "metadata": {},
   "outputs": [
    {
     "name": "stdout",
     "output_type": "stream",
     "text": [
      "[0]\n"
     ]
    }
   ],
   "source": [
    "X = dv.transform([ejemplo[0]])\n",
    "X\n",
    "y_pred = model.predict(X)\n",
    "# result = {\n",
    "#  'job': bool(y_pred)}\n",
    "print(y_pred)"
   ]
  },
  {
   "cell_type": "markdown",
   "metadata": {},
   "source": [
    "## Example"
   ]
  },
  {
   "cell_type": "code",
   "execution_count": 172,
   "metadata": {},
   "outputs": [
    {
     "data": {
      "text/plain": [
       "{'job_id': 5745,\n",
       " 'title': 'Account Sales Managers $80-$130,000/yr',\n",
       " 'location': 'US, NY, Long Island',\n",
       " 'department': None,\n",
       " 'salary_range': None,\n",
       " 'company_profile': 'We have aggressive growth plans in place for the coming years. We provide a much needed service in facilitating the growth of small and medium size business with innovative financing products to their clients.We, at Oak Tree Financing, commit our energies, intellect and knowledge to helping small and medium size business owners and entrepreneurs with extraordinary financing solutions to clients. We believe in providing the highest possible level of service and delivering superior results. We are committed to their financial well-being. With 67% of the population having No Credit or Bad Credit our financing products have helped business owners increase their sales on average by 30%.',\n",
       " 'description': 'We provide No Credit Check Financing to customers of Small and Medium size Businesses and can help 90% of the industries from Auto Mechanics to Dentists and Lawyers.We are seeking skilled Account Managers to grow with us and help us achieve our goals in this new and exciting industry.This is designed as a long-term position for an entrepreneurial individual to really build their book of business, along with their income.Our people enjoy a flexible work environment. High earnings with great incentives like corporate retreats and quick advancement opportunities.',\n",
       " 'requirements': 'Experience and Skills \\xa0Required- Minimum of 3 years of sales experience- Ability to work in a home office environment- Exceptional speaking, writing, and negotiation skills- You must be a motivated self starter and instil that others- College degree',\n",
       " 'benefits': 'We Provide- Complete online training and office support- Flexible working environment- An exciting and lucrative opportunity for those with a proven results background- Rapid advancement for those highly motivated- Average yearly income of $80-$130,000 based on our straight commission compensation model',\n",
       " 'telecommuting': 0,\n",
       " 'has_company_logo': 1,\n",
       " 'has_questions': 0,\n",
       " 'employment_type': 'Full-time',\n",
       " 'required_experience': 'Associate',\n",
       " 'required_education': 'High School or equivalent',\n",
       " 'industry': 'Financial Services',\n",
       " 'function': 'Business Development',\n",
       " 'fraudulent': 1}"
      ]
     },
     "execution_count": 172,
     "metadata": {},
     "output_type": "execute_result"
    }
   ],
   "source": [
    "ejemplo = df_ori[df_ori['fraudulent']==1].sample(1).to_dict(orient='records')\n",
    "for key, value in ejemplo[0].items():\n",
    "    if isinstance(value, float) and np.isnan(value):\n",
    "        ejemplo[0][key] = None  # O cualquier otro valor que prefieras\n",
    "ejemplo[0]\n"
   ]
  },
  {
   "cell_type": "code",
   "execution_count": 173,
   "metadata": {},
   "outputs": [
    {
     "data": {
      "text/plain": [
       "{'job_id': 423,\n",
       " 'title': 'Senior Frontend Developer',\n",
       " 'location': 'NL, , Amsterdam',\n",
       " 'department': 'IT',\n",
       " 'salary_range': None,\n",
       " 'company_profile': 'About the CompanyWe are ticketscript - the European market leaders in digital self-ticketing. Whether it’s massive dance events, festivals, gigs, outdoor cinemas, fairs, theater shows, exhibitions, comedy nights, or award ceremonies - we do them all! We believe in empowering our customers. Their success is our success. So far over 50,000 events have worked with us - and this is only the beginning. We have offices in London, Amsterdam, Antwerp, Berlin and Barcelona and are rapidly expanding across Europe.',\n",
       " 'description': 'About the CompanyWe are ticketscript - the European market leader in digital self-ticketing. Whether it’s massive dance events, festivals, gigs, outdoor cinemas, fairs, theater shows, exhibitions, comedy nights, or award ceremonies - we do them all! We believe in empowering our customers. Their success is our success. So far over 50,000 events have worked with us - and this is only the beginning. We have offices in London, Amsterdam, Antwerp, Berlin and Barcelona and are rapidly expanding across Europe.The roleAs our senior frontend developer you will determine the front-end strategy and design of our future platform. \\xa0You will work closely with our back-end developers in a highly skilled and professional Scrum-team. You will be up to date with the latest front-end technologies and know how to apply them. You identify and address performance bottlenecks and come up with solutions.Responsibilities- Design and develop improvements for interaction design and usability;- Identify and communicate best practices for (mobile) front-end engineering;- Write and maintain quality front-end code;- Ensure the application is fully functional cross-browser and cross-platform;- Ensure that designs are perfectly translated to our application;- Participate in the Scrum team and code reviews',\n",
       " 'requirements': 'Your profileWould you like to work in a professional environment with young and motivated colleagues? Then this is the job for you! We strive to use the latest technology and are always looking for ways to stay one step ahead of the competition. We focus on developing social media and mobile solutions to help our customers sell more tickets in a way that appeals to their audience.Skills and competences- 5+ years of experience in front-end web development- Expert in web technologies (HTML(5)/CSS/JS, jQuery).- Experience with Compass / Sass / Grunt- Experience with PHP- Excellent problem solving skills- Experience with performance debugging and benchmarking;- Experience with responsive design;- Experience with Zend Framework is an advantage;- Experience with high volume websites is an advantage;- Experience with Scrum is an advantage;',\n",
       " 'benefits': 'Our offerA competitive salary within an international and growing technology company that offers you the possibility to deepen your international career. You will join an energetic and results driven team based in Amsterdam.Job detailsDepartment: ITJob type: Full-time (40 hrs)Job location(s): Amsterdam, The Netherlands',\n",
       " 'telecommuting': 0,\n",
       " 'has_company_logo': 1,\n",
       " 'has_questions': 0,\n",
       " 'employment_type': 'Full-time',\n",
       " 'required_experience': 'Associate',\n",
       " 'required_education': None,\n",
       " 'industry': 'Computer Software',\n",
       " 'function': 'Information Technology',\n",
       " 'fraudulent': 0}"
      ]
     },
     "execution_count": 173,
     "metadata": {},
     "output_type": "execute_result"
    }
   ],
   "source": [
    "ejemplo = df_ori.sample(1).to_dict(orient='records')\n",
    "for key, value in ejemplo[0].items():\n",
    "    if isinstance(value, float) and np.isnan(value):\n",
    "        ejemplo[0][key] = None  # O cualquier otro valor que prefieras\n",
    "ejemplo[0]"
   ]
  }
 ],
 "metadata": {
  "kernelspec": {
   "display_name": "venv",
   "language": "python",
   "name": "python3"
  },
  "language_info": {
   "codemirror_mode": {
    "name": "ipython",
    "version": 3
   },
   "file_extension": ".py",
   "mimetype": "text/x-python",
   "name": "python",
   "nbconvert_exporter": "python",
   "pygments_lexer": "ipython3",
   "version": "3.10.9"
  }
 },
 "nbformat": 4,
 "nbformat_minor": 2
}
